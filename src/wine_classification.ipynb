{
 "cells": [
  {
   "cell_type": "markdown",
   "metadata": {},
   "source": [
    "# 와인 분류 문제(레드/화이트 와인)\n",
    "- 📝 Tistory: https://heytech.tistory.com/"
   ]
  },
  {
   "cell_type": "markdown",
   "metadata": {},
   "source": [
    "# 패키지 import"
   ]
  },
  {
   "cell_type": "code",
   "execution_count": 1,
   "metadata": {},
   "outputs": [],
   "source": [
    "import numpy as np\n",
    "import pandas as pd"
   ]
  },
  {
   "cell_type": "code",
   "execution_count": 2,
   "metadata": {},
   "outputs": [
    {
     "name": "stderr",
     "output_type": "stream",
     "text": [
      "/Library/Frameworks/Python.framework/Versions/3.8/lib/python3.8/site-packages/statsmodels/tools/_testing.py:19: FutureWarning: pandas.util.testing is deprecated. Use the functions in the public API at pandas.testing instead.\n",
      "  import pandas.util.testing as tm\n"
     ]
    }
   ],
   "source": [
    "import matplotlib.pyplot as plt\n",
    "import seaborn as sns"
   ]
  },
  {
   "cell_type": "code",
   "execution_count": 3,
   "metadata": {},
   "outputs": [],
   "source": [
    "import pickle\n",
    "from sklearn.model_selection import train_test_split\n",
    "from sklearn.preprocessing import StandardScaler\n",
    "from sklearn.ensemble import RandomForestClassifier as RFC\n",
    "from sklearn.tree import DecisionTreeClassifier as DTC\n",
    "from sklearn.ensemble import GradientBoostingClassifier as GBC\n",
    "from sklearn.metrics import accuracy_score, precision_score, recall_score, f1_score, confusion_matrix, plot_confusion_matrix"
   ]
  },
  {
   "cell_type": "markdown",
   "metadata": {},
   "source": [
    "# 데이터 불러오기"
   ]
  },
  {
   "cell_type": "code",
   "execution_count": 4,
   "metadata": {
    "scrolled": true
   },
   "outputs": [],
   "source": [
    "import pandas as pd\n",
    "red = pd.read_csv('http://archive.ics.uci.edu/ml/machine-learning-databases/wine-quality/winequality-red.csv', sep=';')\n",
    "white = pd.read_csv('http://archive.ics.uci.edu/ml/machine-learning-databases/wine-quality/winequality-white.csv', sep=';')"
   ]
  },
  {
   "cell_type": "code",
   "execution_count": 5,
   "metadata": {},
   "outputs": [
    {
     "data": {
      "text/html": [
       "<div>\n",
       "<style scoped>\n",
       "    .dataframe tbody tr th:only-of-type {\n",
       "        vertical-align: middle;\n",
       "    }\n",
       "\n",
       "    .dataframe tbody tr th {\n",
       "        vertical-align: top;\n",
       "    }\n",
       "\n",
       "    .dataframe thead th {\n",
       "        text-align: right;\n",
       "    }\n",
       "</style>\n",
       "<table border=\"1\" class=\"dataframe\">\n",
       "  <thead>\n",
       "    <tr style=\"text-align: right;\">\n",
       "      <th></th>\n",
       "      <th>fixed acidity</th>\n",
       "      <th>volatile acidity</th>\n",
       "      <th>citric acid</th>\n",
       "      <th>residual sugar</th>\n",
       "      <th>chlorides</th>\n",
       "      <th>free sulfur dioxide</th>\n",
       "      <th>total sulfur dioxide</th>\n",
       "      <th>density</th>\n",
       "      <th>pH</th>\n",
       "      <th>sulphates</th>\n",
       "      <th>alcohol</th>\n",
       "      <th>quality</th>\n",
       "    </tr>\n",
       "  </thead>\n",
       "  <tbody>\n",
       "    <tr>\n",
       "      <th>0</th>\n",
       "      <td>7.4</td>\n",
       "      <td>0.70</td>\n",
       "      <td>0.00</td>\n",
       "      <td>1.9</td>\n",
       "      <td>0.076</td>\n",
       "      <td>11.0</td>\n",
       "      <td>34.0</td>\n",
       "      <td>0.9978</td>\n",
       "      <td>3.51</td>\n",
       "      <td>0.56</td>\n",
       "      <td>9.4</td>\n",
       "      <td>5</td>\n",
       "    </tr>\n",
       "    <tr>\n",
       "      <th>1</th>\n",
       "      <td>7.8</td>\n",
       "      <td>0.88</td>\n",
       "      <td>0.00</td>\n",
       "      <td>2.6</td>\n",
       "      <td>0.098</td>\n",
       "      <td>25.0</td>\n",
       "      <td>67.0</td>\n",
       "      <td>0.9968</td>\n",
       "      <td>3.20</td>\n",
       "      <td>0.68</td>\n",
       "      <td>9.8</td>\n",
       "      <td>5</td>\n",
       "    </tr>\n",
       "    <tr>\n",
       "      <th>2</th>\n",
       "      <td>7.8</td>\n",
       "      <td>0.76</td>\n",
       "      <td>0.04</td>\n",
       "      <td>2.3</td>\n",
       "      <td>0.092</td>\n",
       "      <td>15.0</td>\n",
       "      <td>54.0</td>\n",
       "      <td>0.9970</td>\n",
       "      <td>3.26</td>\n",
       "      <td>0.65</td>\n",
       "      <td>9.8</td>\n",
       "      <td>5</td>\n",
       "    </tr>\n",
       "    <tr>\n",
       "      <th>3</th>\n",
       "      <td>11.2</td>\n",
       "      <td>0.28</td>\n",
       "      <td>0.56</td>\n",
       "      <td>1.9</td>\n",
       "      <td>0.075</td>\n",
       "      <td>17.0</td>\n",
       "      <td>60.0</td>\n",
       "      <td>0.9980</td>\n",
       "      <td>3.16</td>\n",
       "      <td>0.58</td>\n",
       "      <td>9.8</td>\n",
       "      <td>6</td>\n",
       "    </tr>\n",
       "    <tr>\n",
       "      <th>4</th>\n",
       "      <td>7.4</td>\n",
       "      <td>0.70</td>\n",
       "      <td>0.00</td>\n",
       "      <td>1.9</td>\n",
       "      <td>0.076</td>\n",
       "      <td>11.0</td>\n",
       "      <td>34.0</td>\n",
       "      <td>0.9978</td>\n",
       "      <td>3.51</td>\n",
       "      <td>0.56</td>\n",
       "      <td>9.4</td>\n",
       "      <td>5</td>\n",
       "    </tr>\n",
       "  </tbody>\n",
       "</table>\n",
       "</div>"
      ],
      "text/plain": [
       "   fixed acidity  volatile acidity  citric acid  residual sugar  chlorides  \\\n",
       "0            7.4              0.70         0.00             1.9      0.076   \n",
       "1            7.8              0.88         0.00             2.6      0.098   \n",
       "2            7.8              0.76         0.04             2.3      0.092   \n",
       "3           11.2              0.28         0.56             1.9      0.075   \n",
       "4            7.4              0.70         0.00             1.9      0.076   \n",
       "\n",
       "   free sulfur dioxide  total sulfur dioxide  density    pH  sulphates  \\\n",
       "0                 11.0                  34.0   0.9978  3.51       0.56   \n",
       "1                 25.0                  67.0   0.9968  3.20       0.68   \n",
       "2                 15.0                  54.0   0.9970  3.26       0.65   \n",
       "3                 17.0                  60.0   0.9980  3.16       0.58   \n",
       "4                 11.0                  34.0   0.9978  3.51       0.56   \n",
       "\n",
       "   alcohol  quality  \n",
       "0      9.4        5  \n",
       "1      9.8        5  \n",
       "2      9.8        5  \n",
       "3      9.8        6  \n",
       "4      9.4        5  "
      ]
     },
     "execution_count": 5,
     "metadata": {},
     "output_type": "execute_result"
    }
   ],
   "source": [
    "red.head()"
   ]
  },
  {
   "cell_type": "code",
   "execution_count": 6,
   "metadata": {},
   "outputs": [
    {
     "data": {
      "text/html": [
       "<div>\n",
       "<style scoped>\n",
       "    .dataframe tbody tr th:only-of-type {\n",
       "        vertical-align: middle;\n",
       "    }\n",
       "\n",
       "    .dataframe tbody tr th {\n",
       "        vertical-align: top;\n",
       "    }\n",
       "\n",
       "    .dataframe thead th {\n",
       "        text-align: right;\n",
       "    }\n",
       "</style>\n",
       "<table border=\"1\" class=\"dataframe\">\n",
       "  <thead>\n",
       "    <tr style=\"text-align: right;\">\n",
       "      <th></th>\n",
       "      <th>fixed acidity</th>\n",
       "      <th>volatile acidity</th>\n",
       "      <th>citric acid</th>\n",
       "      <th>residual sugar</th>\n",
       "      <th>chlorides</th>\n",
       "      <th>free sulfur dioxide</th>\n",
       "      <th>total sulfur dioxide</th>\n",
       "      <th>density</th>\n",
       "      <th>pH</th>\n",
       "      <th>sulphates</th>\n",
       "      <th>alcohol</th>\n",
       "      <th>quality</th>\n",
       "    </tr>\n",
       "  </thead>\n",
       "  <tbody>\n",
       "    <tr>\n",
       "      <th>0</th>\n",
       "      <td>7.0</td>\n",
       "      <td>0.27</td>\n",
       "      <td>0.36</td>\n",
       "      <td>20.7</td>\n",
       "      <td>0.045</td>\n",
       "      <td>45.0</td>\n",
       "      <td>170.0</td>\n",
       "      <td>1.0010</td>\n",
       "      <td>3.00</td>\n",
       "      <td>0.45</td>\n",
       "      <td>8.8</td>\n",
       "      <td>6</td>\n",
       "    </tr>\n",
       "    <tr>\n",
       "      <th>1</th>\n",
       "      <td>6.3</td>\n",
       "      <td>0.30</td>\n",
       "      <td>0.34</td>\n",
       "      <td>1.6</td>\n",
       "      <td>0.049</td>\n",
       "      <td>14.0</td>\n",
       "      <td>132.0</td>\n",
       "      <td>0.9940</td>\n",
       "      <td>3.30</td>\n",
       "      <td>0.49</td>\n",
       "      <td>9.5</td>\n",
       "      <td>6</td>\n",
       "    </tr>\n",
       "    <tr>\n",
       "      <th>2</th>\n",
       "      <td>8.1</td>\n",
       "      <td>0.28</td>\n",
       "      <td>0.40</td>\n",
       "      <td>6.9</td>\n",
       "      <td>0.050</td>\n",
       "      <td>30.0</td>\n",
       "      <td>97.0</td>\n",
       "      <td>0.9951</td>\n",
       "      <td>3.26</td>\n",
       "      <td>0.44</td>\n",
       "      <td>10.1</td>\n",
       "      <td>6</td>\n",
       "    </tr>\n",
       "    <tr>\n",
       "      <th>3</th>\n",
       "      <td>7.2</td>\n",
       "      <td>0.23</td>\n",
       "      <td>0.32</td>\n",
       "      <td>8.5</td>\n",
       "      <td>0.058</td>\n",
       "      <td>47.0</td>\n",
       "      <td>186.0</td>\n",
       "      <td>0.9956</td>\n",
       "      <td>3.19</td>\n",
       "      <td>0.40</td>\n",
       "      <td>9.9</td>\n",
       "      <td>6</td>\n",
       "    </tr>\n",
       "    <tr>\n",
       "      <th>4</th>\n",
       "      <td>7.2</td>\n",
       "      <td>0.23</td>\n",
       "      <td>0.32</td>\n",
       "      <td>8.5</td>\n",
       "      <td>0.058</td>\n",
       "      <td>47.0</td>\n",
       "      <td>186.0</td>\n",
       "      <td>0.9956</td>\n",
       "      <td>3.19</td>\n",
       "      <td>0.40</td>\n",
       "      <td>9.9</td>\n",
       "      <td>6</td>\n",
       "    </tr>\n",
       "  </tbody>\n",
       "</table>\n",
       "</div>"
      ],
      "text/plain": [
       "   fixed acidity  volatile acidity  citric acid  residual sugar  chlorides  \\\n",
       "0            7.0              0.27         0.36            20.7      0.045   \n",
       "1            6.3              0.30         0.34             1.6      0.049   \n",
       "2            8.1              0.28         0.40             6.9      0.050   \n",
       "3            7.2              0.23         0.32             8.5      0.058   \n",
       "4            7.2              0.23         0.32             8.5      0.058   \n",
       "\n",
       "   free sulfur dioxide  total sulfur dioxide  density    pH  sulphates  \\\n",
       "0                 45.0                 170.0   1.0010  3.00       0.45   \n",
       "1                 14.0                 132.0   0.9940  3.30       0.49   \n",
       "2                 30.0                  97.0   0.9951  3.26       0.44   \n",
       "3                 47.0                 186.0   0.9956  3.19       0.40   \n",
       "4                 47.0                 186.0   0.9956  3.19       0.40   \n",
       "\n",
       "   alcohol  quality  \n",
       "0      8.8        6  \n",
       "1      9.5        6  \n",
       "2     10.1        6  \n",
       "3      9.9        6  \n",
       "4      9.9        6  "
      ]
     },
     "execution_count": 6,
     "metadata": {},
     "output_type": "execute_result"
    }
   ],
   "source": [
    "white.head()"
   ]
  },
  {
   "cell_type": "markdown",
   "metadata": {},
   "source": [
    "# 데이터 라벨링"
   ]
  },
  {
   "cell_type": "markdown",
   "metadata": {},
   "source": [
    "**목표변수 설정**\n",
    "- 레드 와인은 target을 0으로, 화이트 와인은 1로 초기화"
   ]
  },
  {
   "cell_type": "code",
   "execution_count": 7,
   "metadata": {},
   "outputs": [],
   "source": [
    "red['target'] = 0\n",
    "white['target'] = 1"
   ]
  },
  {
   "cell_type": "code",
   "execution_count": 8,
   "metadata": {},
   "outputs": [],
   "source": [
    "red.to_csv('../dataset/red_raw.csv')\n",
    "white.to_csv('../dataset/white_raw.csv')"
   ]
  },
  {
   "cell_type": "markdown",
   "metadata": {},
   "source": [
    "# 데이터 결합"
   ]
  },
  {
   "cell_type": "code",
   "execution_count": 9,
   "metadata": {},
   "outputs": [
    {
     "data": {
      "text/html": [
       "<div>\n",
       "<style scoped>\n",
       "    .dataframe tbody tr th:only-of-type {\n",
       "        vertical-align: middle;\n",
       "    }\n",
       "\n",
       "    .dataframe tbody tr th {\n",
       "        vertical-align: top;\n",
       "    }\n",
       "\n",
       "    .dataframe thead th {\n",
       "        text-align: right;\n",
       "    }\n",
       "</style>\n",
       "<table border=\"1\" class=\"dataframe\">\n",
       "  <thead>\n",
       "    <tr style=\"text-align: right;\">\n",
       "      <th></th>\n",
       "      <th>fixed acidity</th>\n",
       "      <th>volatile acidity</th>\n",
       "      <th>citric acid</th>\n",
       "      <th>residual sugar</th>\n",
       "      <th>chlorides</th>\n",
       "      <th>free sulfur dioxide</th>\n",
       "      <th>total sulfur dioxide</th>\n",
       "      <th>density</th>\n",
       "      <th>pH</th>\n",
       "      <th>sulphates</th>\n",
       "      <th>alcohol</th>\n",
       "      <th>quality</th>\n",
       "      <th>target</th>\n",
       "    </tr>\n",
       "  </thead>\n",
       "  <tbody>\n",
       "    <tr>\n",
       "      <th>0</th>\n",
       "      <td>7.4</td>\n",
       "      <td>0.70</td>\n",
       "      <td>0.00</td>\n",
       "      <td>1.9</td>\n",
       "      <td>0.076</td>\n",
       "      <td>11.0</td>\n",
       "      <td>34.0</td>\n",
       "      <td>0.9978</td>\n",
       "      <td>3.51</td>\n",
       "      <td>0.56</td>\n",
       "      <td>9.4</td>\n",
       "      <td>5</td>\n",
       "      <td>0</td>\n",
       "    </tr>\n",
       "    <tr>\n",
       "      <th>1</th>\n",
       "      <td>7.8</td>\n",
       "      <td>0.88</td>\n",
       "      <td>0.00</td>\n",
       "      <td>2.6</td>\n",
       "      <td>0.098</td>\n",
       "      <td>25.0</td>\n",
       "      <td>67.0</td>\n",
       "      <td>0.9968</td>\n",
       "      <td>3.20</td>\n",
       "      <td>0.68</td>\n",
       "      <td>9.8</td>\n",
       "      <td>5</td>\n",
       "      <td>0</td>\n",
       "    </tr>\n",
       "    <tr>\n",
       "      <th>2</th>\n",
       "      <td>7.8</td>\n",
       "      <td>0.76</td>\n",
       "      <td>0.04</td>\n",
       "      <td>2.3</td>\n",
       "      <td>0.092</td>\n",
       "      <td>15.0</td>\n",
       "      <td>54.0</td>\n",
       "      <td>0.9970</td>\n",
       "      <td>3.26</td>\n",
       "      <td>0.65</td>\n",
       "      <td>9.8</td>\n",
       "      <td>5</td>\n",
       "      <td>0</td>\n",
       "    </tr>\n",
       "    <tr>\n",
       "      <th>3</th>\n",
       "      <td>11.2</td>\n",
       "      <td>0.28</td>\n",
       "      <td>0.56</td>\n",
       "      <td>1.9</td>\n",
       "      <td>0.075</td>\n",
       "      <td>17.0</td>\n",
       "      <td>60.0</td>\n",
       "      <td>0.9980</td>\n",
       "      <td>3.16</td>\n",
       "      <td>0.58</td>\n",
       "      <td>9.8</td>\n",
       "      <td>6</td>\n",
       "      <td>0</td>\n",
       "    </tr>\n",
       "    <tr>\n",
       "      <th>4</th>\n",
       "      <td>7.4</td>\n",
       "      <td>0.70</td>\n",
       "      <td>0.00</td>\n",
       "      <td>1.9</td>\n",
       "      <td>0.076</td>\n",
       "      <td>11.0</td>\n",
       "      <td>34.0</td>\n",
       "      <td>0.9978</td>\n",
       "      <td>3.51</td>\n",
       "      <td>0.56</td>\n",
       "      <td>9.4</td>\n",
       "      <td>5</td>\n",
       "      <td>0</td>\n",
       "    </tr>\n",
       "  </tbody>\n",
       "</table>\n",
       "</div>"
      ],
      "text/plain": [
       "   fixed acidity  volatile acidity  citric acid  residual sugar  chlorides  \\\n",
       "0            7.4              0.70         0.00             1.9      0.076   \n",
       "1            7.8              0.88         0.00             2.6      0.098   \n",
       "2            7.8              0.76         0.04             2.3      0.092   \n",
       "3           11.2              0.28         0.56             1.9      0.075   \n",
       "4            7.4              0.70         0.00             1.9      0.076   \n",
       "\n",
       "   free sulfur dioxide  total sulfur dioxide  density    pH  sulphates  \\\n",
       "0                 11.0                  34.0   0.9978  3.51       0.56   \n",
       "1                 25.0                  67.0   0.9968  3.20       0.68   \n",
       "2                 15.0                  54.0   0.9970  3.26       0.65   \n",
       "3                 17.0                  60.0   0.9980  3.16       0.58   \n",
       "4                 11.0                  34.0   0.9978  3.51       0.56   \n",
       "\n",
       "   alcohol  quality  target  \n",
       "0      9.4        5       0  \n",
       "1      9.8        5       0  \n",
       "2      9.8        5       0  \n",
       "3      9.8        6       0  \n",
       "4      9.4        5       0  "
      ]
     },
     "execution_count": 9,
     "metadata": {},
     "output_type": "execute_result"
    }
   ],
   "source": [
    "df = pd.concat([red, white], axis = 0)\n",
    "df.head()"
   ]
  },
  {
   "cell_type": "code",
   "execution_count": 10,
   "metadata": {},
   "outputs": [],
   "source": [
    "df.to_csv('../dataset/wine_combined_raw.csv')"
   ]
  },
  {
   "cell_type": "code",
   "execution_count": 11,
   "metadata": {},
   "outputs": [
    {
     "data": {
      "text/plain": [
       "1    0.753886\n",
       "0    0.246114\n",
       "Name: target, dtype: float64"
      ]
     },
     "execution_count": 11,
     "metadata": {},
     "output_type": "execute_result"
    }
   ],
   "source": [
    "# 화이트 와인이 레드와인에 약 3배 더 많음\n",
    "df.target.value_counts(normalize=True)"
   ]
  },
  {
   "cell_type": "markdown",
   "metadata": {},
   "source": [
    "# 데이터 전처리"
   ]
  },
  {
   "cell_type": "markdown",
   "metadata": {},
   "source": [
    "## 결측치 처리"
   ]
  },
  {
   "cell_type": "code",
   "execution_count": 12,
   "metadata": {},
   "outputs": [
    {
     "data": {
      "text/plain": [
       "fixed acidity           0\n",
       "volatile acidity        0\n",
       "citric acid             0\n",
       "residual sugar          0\n",
       "chlorides               0\n",
       "free sulfur dioxide     0\n",
       "total sulfur dioxide    0\n",
       "density                 0\n",
       "pH                      0\n",
       "sulphates               0\n",
       "alcohol                 0\n",
       "quality                 0\n",
       "target                  0\n",
       "dtype: int64"
      ]
     },
     "execution_count": 12,
     "metadata": {},
     "output_type": "execute_result"
    }
   ],
   "source": [
    "df.isnull().sum() # 결측치 미존재"
   ]
  },
  {
   "cell_type": "code",
   "execution_count": 13,
   "metadata": {},
   "outputs": [],
   "source": [
    "# 목표변수만 선택\n",
    "x = df[df.columns.difference(['target'])]"
   ]
  },
  {
   "cell_type": "markdown",
   "metadata": {},
   "source": [
    "## 이상치 처리"
   ]
  },
  {
   "cell_type": "code",
   "execution_count": 14,
   "metadata": {},
   "outputs": [
    {
     "name": "stdout",
     "output_type": "stream",
     "text": [
      "설명변수(feature) 개수: 12\n"
     ]
    }
   ],
   "source": [
    "feature_num = len(x.columns)\n",
    "print(f\"설명변수(feature) 개수: {feature_num}\")"
   ]
  },
  {
   "cell_type": "markdown",
   "metadata": {},
   "source": [
    "### Boxplot을 활용한 이상치 확인"
   ]
  },
  {
   "cell_type": "code",
   "execution_count": 15,
   "metadata": {},
   "outputs": [
    {
     "data": {
      "image/png": "[encoded data removed]",
      "text/plain": [
       "<Figure size 2160x2160 with 12 Axes>"
      ]
     },
     "metadata": {
      "needs_background": "light"
     },
     "output_type": "display_data"
    }
   ],
   "source": [
    "plt.figure(figsize=(30, 30))\n",
    "for col_idx in range(feature_num):\n",
    "    plt.subplot(6, 2, col_idx+1)\n",
    "    plt.boxplot(df[df.columns[col_idx]], flierprops = dict(markerfacecolor = 'r', marker = 'D'))\n",
    "    plt.title(\"Feature: \"+ x.columns[col_idx], fontsize = 20)\n",
    "plt.show()"
   ]
  },
  {
   "cell_type": "markdown",
   "metadata": {},
   "source": [
    "### 사분위수 범위(IQR) 기반 이상치 제거"
   ]
  },
  {
   "cell_type": "code",
   "execution_count": 16,
   "metadata": {},
   "outputs": [],
   "source": [
    "def remove_outlier(input_data):\n",
    "    q1 = input_data.quantile(0.25)\n",
    "    q3 = input_data.quantile(0.75)\n",
    "    iqr = q3 - q1\n",
    "    lower_bound = q1 - (iqr * 1.5)\n",
    "    upper_bound = q3 + (iqr * 1.5)\n",
    "    df_removed_outlier = input_data[(lower_bound < input_data) & (input_data < upper_bound)]\n",
    "    return df_removed_outlier"
   ]
  },
  {
   "cell_type": "code",
   "execution_count": 17,
   "metadata": {
    "scrolled": true
   },
   "outputs": [],
   "source": [
    "# 이상치 제거한 데이터셋\n",
    "df_prep = remove_outlier(x)"
   ]
  },
  {
   "cell_type": "code",
   "execution_count": 18,
   "metadata": {},
   "outputs": [],
   "source": [
    "# 목표변수 할당\n",
    "df_prep['target'] = df.target"
   ]
  },
  {
   "cell_type": "code",
   "execution_count": 19,
   "metadata": {
    "scrolled": true
   },
   "outputs": [
    {
     "data": {
      "text/plain": [
       "alcohol                   3\n",
       "chlorides               286\n",
       "citric acid             509\n",
       "density                   3\n",
       "fixed acidity           357\n",
       "free sulfur dioxide      67\n",
       "pH                       73\n",
       "quality                 228\n",
       "residual sugar          118\n",
       "sulphates               191\n",
       "total sulfur dioxide     10\n",
       "volatile acidity        387\n",
       "target                    0\n",
       "dtype: int64"
      ]
     },
     "execution_count": 19,
     "metadata": {},
     "output_type": "execute_result"
    }
   ],
   "source": [
    "# 결측치(이상치 처리된 데이터) 확인\n",
    "df_prep.isnull().sum()"
   ]
  },
  {
   "cell_type": "code",
   "execution_count": 20,
   "metadata": {},
   "outputs": [
    {
     "name": "stdout",
     "output_type": "stream",
     "text": [
      "이상치 포함된 데이터 비율: 25.6%\n"
     ]
    }
   ],
   "source": [
    "# 이상치 포함 데이터 삭제\n",
    "df_prep.dropna(axis = 0, how = 'any', inplace = True)\n",
    "print(f\"이상치 포함된 데이터 비율: {round((len(df) - len(df_prep))*100/len(df), 2)}%\")"
   ]
  },
  {
   "cell_type": "code",
   "execution_count": 21,
   "metadata": {},
   "outputs": [
    {
     "data": {
      "text/plain": [
       "1    0.859743\n",
       "0    0.140257\n",
       "Name: target, dtype: float64"
      ]
     },
     "execution_count": 21,
     "metadata": {},
     "output_type": "execute_result"
    }
   ],
   "source": [
    "df_prep.target.value_counts(normalize=True)"
   ]
  },
  {
   "cell_type": "code",
   "execution_count": 22,
   "metadata": {},
   "outputs": [],
   "source": [
    "df_prep.to_csv('../dataset/wine_combined_prep.csv')"
   ]
  },
  {
   "cell_type": "markdown",
   "metadata": {},
   "source": [
    "## 데이터 정규화"
   ]
  },
  {
   "cell_type": "code",
   "execution_count": 23,
   "metadata": {},
   "outputs": [],
   "source": [
    "scaler = StandardScaler()\n",
    "# 설명변수, 목표변수 분리\n",
    "x = df_prep[df_prep.columns.difference(['target'])]\n",
    "y = df_prep['target']\n",
    "x_scaled = scaler.fit_transform(x)"
   ]
  },
  {
   "cell_type": "markdown",
   "metadata": {},
   "source": [
    "# 데이터 분리"
   ]
  },
  {
   "cell_type": "code",
   "execution_count": 24,
   "metadata": {},
   "outputs": [],
   "source": [
    "x_train, x_test, y_train, y_test = train_test_split(x_scaled, y, test_size = 0.3, random_state = 123)"
   ]
  },
  {
   "cell_type": "code",
   "execution_count": 25,
   "metadata": {},
   "outputs": [
    {
     "data": {
      "text/plain": [
       "1    0.859296\n",
       "0    0.140704\n",
       "Name: target, dtype: float64"
      ]
     },
     "execution_count": 25,
     "metadata": {},
     "output_type": "execute_result"
    }
   ],
   "source": [
    "# 훈련 데이터 내 와인별 비율\n",
    "y_train.value_counts(normalize=True)"
   ]
  },
  {
   "cell_type": "code",
   "execution_count": 26,
   "metadata": {},
   "outputs": [
    {
     "data": {
      "text/plain": [
       "1    0.860786\n",
       "0    0.139214\n",
       "Name: target, dtype: float64"
      ]
     },
     "execution_count": 26,
     "metadata": {},
     "output_type": "execute_result"
    }
   ],
   "source": [
    "# 테스트 데이터 내 와인별 비율\n",
    "y_test.value_counts(normalize=True)"
   ]
  },
  {
   "cell_type": "markdown",
   "metadata": {},
   "source": [
    "# Classifier 모델링 함수"
   ]
  },
  {
   "cell_type": "markdown",
   "metadata": {},
   "source": [
    "## 기본 모델 학습 함수"
   ]
  },
  {
   "cell_type": "code",
   "execution_count": 27,
   "metadata": {},
   "outputs": [],
   "source": [
    "def modeling_uncustomized (algorithm, x_train, y_train, x_test, y_test):\n",
    "    uncustomized = algorithm(random_state=1234)\n",
    "    uncustomized.fit(x_train, y_train)\n",
    "    # Train Data 설명력\n",
    "    train_score_before = uncustomized.score(x_train, y_train).round(3)\n",
    "    print(f\"학습 데이터셋 정확도: {train_score_before}\")\n",
    "    # Test Data 설명력\n",
    "    test_score_before = uncustomized.score(x_test, y_test).round(3)\n",
    "    print(f\"테스트 데이터셋 정확도: {test_score_before}\")\n",
    "    return train_score_before, test_score_before"
   ]
  },
  {
   "cell_type": "markdown",
   "metadata": {},
   "source": [
    "## 하이퍼파라미터별 모델 성능 시각화 함수"
   ]
  },
  {
   "cell_type": "code",
   "execution_count": 28,
   "metadata": {},
   "outputs": [],
   "source": [
    "def optimi_visualization(algorithm_name, x_values, train_score, test_score, xlabel, filename):\n",
    "    plt.plot(x_values, train_score, linestyle = '-', label = 'train score')\n",
    "    plt.plot(x_values, test_score, linestyle = '--', label = 'test score')\n",
    "    plt.ylabel('Accuracy(%)')\n",
    "    plt.xlabel(xlabel)\n",
    "    plt.legend()\n",
    "    plt.savefig('../figure/' + algorithm_name + '_' + filename + '.png')"
   ]
  },
  {
   "cell_type": "markdown",
   "metadata": {},
   "source": [
    "## 모델 최적화 함수: 학습할 트리 모델 개수 선정"
   ]
  },
  {
   "cell_type": "code",
   "execution_count": 29,
   "metadata": {},
   "outputs": [],
   "source": [
    "def optimi_estimator(algorithm, algorithm_name, x_train, y_train, x_test, y_test, n_estimator_min, n_estimator_max):\n",
    "    train_score = []; test_score =[]\n",
    "    para_n_tree = [n_tree*5 for n_tree in range(n_estimator_min, n_estimator_max)]\n",
    "\n",
    "    for v_n_estimators in para_n_tree:\n",
    "        model = algorithm(n_estimators = v_n_estimators, random_state=1234)\n",
    "        model.fit(x_train, y_train)\n",
    "        train_score.append(model.score(x_train, y_train))\n",
    "        test_score.append(model.score(x_test, y_test))\n",
    "\n",
    "    # 결과 저장\n",
    "    df_score_n = pd.DataFrame({'n_estimators': para_n_tree, 'TrainScore': train_score, 'TestScore': test_score})\n",
    "    optimi_visualization(algorithm_name, para_n_tree, train_score, test_score, \"The number of estimator\", \"n_estimator\")\n",
    "    print(round(df_score_n, 3))"
   ]
  },
  {
   "cell_type": "markdown",
   "metadata": {},
   "source": [
    "## 모델 최적화 함수: 최대 깊이 선정"
   ]
  },
  {
   "cell_type": "code",
   "execution_count": 30,
   "metadata": {},
   "outputs": [],
   "source": [
    "def optimi_maxdepth (algorithm, algorithm_name, x_train, y_train, x_test, y_test, depth_min, depth_max, n_estimator):\n",
    "    train_score = []; test_score = []\n",
    "    para_depth = [depth for depth in range(depth_min, depth_max)]\n",
    "\n",
    "    for v_max_depth in para_depth:\n",
    "        \n",
    "        if algorithm == DTC:\n",
    "            model = algorithm(max_depth = v_max_depth,\n",
    "                              random_state=1234)\n",
    "        else:\n",
    "            model = algorithm(max_depth = v_max_depth,\n",
    "                              n_estimators = n_estimator,\n",
    "                              random_state=1234)\n",
    "        \n",
    "        model.fit(x_train, y_train)\n",
    "        train_score.append(model.score(x_train, y_train))\n",
    "        test_score.append(model.score(x_test, y_test))\n",
    "\n",
    "    # 결과 저장\n",
    "    df_score_n = pd.DataFrame({'depth': para_depth, 'TrainScore': train_score, 'TestScore': test_score})\n",
    "    optimi_visualization(algorithm_name, para_depth, train_score, test_score, \"The number of depth\", \"n_depth\")\n",
    "    print(round(df_score_n, 3))"
   ]
  },
  {
   "cell_type": "markdown",
   "metadata": {},
   "source": [
    "## 모델 최적화 함수: 분리 노드의 최소 자료 수 선정"
   ]
  },
  {
   "cell_type": "code",
   "execution_count": 31,
   "metadata": {},
   "outputs": [],
   "source": [
    "def optimi_minsplit (algorithm, algorithm_name, x_train, y_train, x_test, y_test, n_split_min, n_split_max, n_estimator, n_depth):\n",
    "    train_score = []; test_score = []\n",
    "    para_split = [n_split*2 for n_split in range(n_split_min, n_split_max)]\n",
    "    for v_min_samples_split in para_split:\n",
    "        if algorithm == DTC:\n",
    "            model = algorithm(min_samples_split = v_min_samples_split,\n",
    "                              max_depth = n_depth,\n",
    "                              random_state = 1234)\n",
    "        else:\n",
    "            model = algorithm(min_samples_split = v_min_samples_split,\n",
    "                              n_estimators = n_estimator,\n",
    "                              max_depth = n_depth,\n",
    "                              random_state = 1234)\n",
    "        model.fit(x_train, y_train)\n",
    "        train_score.append(model.score(x_train, y_train))\n",
    "        test_score.append(model.score(x_test, y_test))\n",
    "\n",
    "    # 결과 저장\n",
    "    df_score_n = pd.DataFrame({'min_samples_split': para_split, 'TrainScore': train_score, 'TestScore': test_score})\n",
    "    optimi_visualization(algorithm_name, para_split, train_score, test_score, \"The minimum number of samples required to split an internal node\", \"min_samples_split\")\n",
    "    print(round(df_score_n, 3))"
   ]
  },
  {
   "cell_type": "markdown",
   "metadata": {},
   "source": [
    "## 모델 최적화 함수: 잎사귀 노드의 최소 자료 수 선정"
   ]
  },
  {
   "cell_type": "code",
   "execution_count": 32,
   "metadata": {},
   "outputs": [],
   "source": [
    "# min_samples_leaf: 잎사귀 최소 자료 수\n",
    "def optimi_minleaf(algorithm, algorithm_name, x_train, y_train, x_test, y_test, n_leaf_min, n_leaf_max, n_estimator, n_depth, n_split):\n",
    "    train_score = []; test_score = []\n",
    "    para_leaf = [n_leaf*2 for n_leaf in range(n_leaf_min, n_leaf_max)]\n",
    "\n",
    "    for v_min_samples_leaf in para_leaf:\n",
    "        if algorithm == DTC:\n",
    "            model = algorithm(min_samples_leaf = v_min_samples_leaf,\n",
    "                                        max_depth = n_depth,\n",
    "                                        min_samples_split = n_split,\n",
    "                                        random_state=1234)\n",
    "        else:\n",
    "            model = algorithm(min_samples_leaf = v_min_samples_leaf,\n",
    "                                n_estimators = n_estimator,\n",
    "                                max_depth = n_depth,\n",
    "                                min_samples_split = n_split,\n",
    "                                random_state=1234)\n",
    "        model.fit(x_train, y_train)\n",
    "        train_score.append(model.score(x_train, y_train))\n",
    "        test_score.append(model.score(x_test, y_test))\n",
    "\n",
    "    # 결과 저장\n",
    "    df_score_n = pd.DataFrame({'min_samples_leaf': para_leaf, 'TrainScore': train_score, 'TestScore': test_score})\n",
    "    optimi_visualization(algorithm_name, para_leaf, train_score, test_score, \"The minimum number of samples required to be at a leaf node\", \"min_samples_leaf\")\n",
    "    print(round(df_score_n, 3))"
   ]
  },
  {
   "cell_type": "markdown",
   "metadata": {},
   "source": [
    "## 최종 모델 학습"
   ]
  },
  {
   "cell_type": "code",
   "execution_count": 33,
   "metadata": {},
   "outputs": [],
   "source": [
    "def model_final(algorithm, algorithm_name, feature_name, x_train, y_train, x_test, y_test, n_estimator, n_depth, n_split, n_leaf):\n",
    "    if algorithm == DTC:\n",
    "        model = algorithm(random_state=1234, \n",
    "                          min_samples_leaf = n_leaf,\n",
    "                          min_samples_split = n_split, \n",
    "                          max_depth = n_depth)\n",
    "    else:\n",
    "        model = algorithm(random_state = 1234, \n",
    "                          n_estimators = n_estimator, \n",
    "                          min_samples_leaf = n_leaf,\n",
    "                          min_samples_split = n_split, \n",
    "                          max_depth = n_depth)\n",
    "    # 모델 학습\n",
    "    model.fit(x_train, y_train)\n",
    "    # 모델 저장\n",
    "    model_path = '../model/'\n",
    "    model_filename = 'wine_classification_' + algorithm_name + '.pkl'\n",
    "    with open(model_path + model_filename, 'wb') as f:\n",
    "        pickle.dump(model, f)\n",
    "    print(f\"최종 모델 저장 완료! 파일 경로: {model_path + model_filename}\\n\")\n",
    "    \n",
    "    # 모델 평가\n",
    "    train_acc = model.score(x_train, y_train)\n",
    "    test_acc = model.score(x_test, y_test)\n",
    "    y_pred = model.predict(x_test)\n",
    "    print(f\"Accuracy: {accuracy_score(y_test, y_pred):.3f}\")\n",
    "    print(f\"Precision: {precision_score(y_test, y_pred):.3f}\")\n",
    "    print(f\"Recall: {recall_score(y_test, y_pred):.3f}\")\n",
    "    print(f\"F1-score: {f1_score(y_test, y_pred):.3f}\")\n",
    "    \n",
    "    plot_confusion_matrix(model, \n",
    "                         x_test, y_test,\n",
    "                         include_values = True,\n",
    "                         display_labels = ['Red', 'White'], # 목표변수 이름\n",
    "                         cmap = 'Pastel1', # 컬러맵\n",
    "                         normalize = 'all')\n",
    "    #plot.ax_.set_title('Confusion Matrix')\n",
    "    plt.show()\n",
    "    plt.savefig('../figure/' + algorithm_name + '_confusion_matrix.png')\n",
    "    \n",
    "    print(f\"Confusion Matrix:\\n{confusion_matrix(y_test, y_pred)}\")\n",
    "    print()\n",
    "    \n",
    "    # 변수 중요도 산출\n",
    "    dt_importance = pd.DataFrame()\n",
    "    dt_importance['Feature'] = feature_name\n",
    "    dt_importance['Importance'] = model.feature_importances_\n",
    "\n",
    "    dt_importance.sort_values(\"Importance\", ascending = False, inplace = True)\n",
    "    print(dt_importance.round(3))\n",
    "    dt_importance.sort_values(\"Importance\", ascending = True, inplace = True)\n",
    "    coordinates = range(len(dt_importance))\n",
    "    \n",
    "    # 변수 중요도 시각화\n",
    "    plt.barh(y = coordinates, width = dt_importance[\"Importance\"])\n",
    "    plt.yticks(coordinates, dt_importance[\"Feature\"])\n",
    "    plt.xlabel(\"Importance\")\n",
    "    plt.ylabel(\"Features\")\n",
    "    plt.savefig('../figure/' + algorithm_name + '_feature_importance.png')"
   ]
  },
  {
   "cell_type": "markdown",
   "metadata": {},
   "source": [
    "# Random Forest Classifier 기반 분류 모델 성능 평가"
   ]
  },
  {
   "cell_type": "code",
   "execution_count": 34,
   "metadata": {},
   "outputs": [],
   "source": [
    "algorithm = RFC\n",
    "algorithm_name = 'RFC'"
   ]
  },
  {
   "cell_type": "markdown",
   "metadata": {},
   "source": [
    "## 기본 모델 학습"
   ]
  },
  {
   "cell_type": "code",
   "execution_count": 35,
   "metadata": {},
   "outputs": [
    {
     "name": "stdout",
     "output_type": "stream",
     "text": [
      "학습 데이터셋 정확도: 0.999\n",
      "테스트 데이터셋 정확도: 0.991\n"
     ]
    }
   ],
   "source": [
    "train_acc_before, test_acc_before = modeling_uncustomized(algorithm, \n",
    "                                                          x_train,\n",
    "                                                          y_train,\n",
    "                                                          x_test,\n",
    "                                                          y_test)"
   ]
  },
  {
   "cell_type": "markdown",
   "metadata": {},
   "source": [
    "### 해석\n",
    "- 학습 데이터를 기반으로 학습한 분류 모델의 정확도가 100%인 것으로 미루어 보아 과대적합이 발생한 것으로 보임\n",
    "- 하이퍼파라미터 튜닝을 통해 과대적합을 방지할 수 있도록 조치가 필요함"
   ]
  },
  {
   "cell_type": "markdown",
   "metadata": {},
   "source": [
    "## 모델 최적화: (1) 학습할 트리 개수 선정"
   ]
  },
  {
   "cell_type": "code",
   "execution_count": 36,
   "metadata": {},
   "outputs": [
    {
     "name": "stdout",
     "output_type": "stream",
     "text": [
      "    n_estimators  TrainScore  TestScore\n",
      "0              5       0.998      0.990\n",
      "1             10       0.999      0.991\n",
      "2             15       0.999      0.992\n",
      "3             20       0.999      0.993\n",
      "4             25       0.999      0.993\n",
      "5             30       0.999      0.992\n",
      "6             35       0.999      0.992\n",
      "7             40       0.999      0.992\n",
      "8             45       0.999      0.992\n",
      "9             50       0.999      0.992\n",
      "10            55       0.999      0.992\n",
      "11            60       0.999      0.992\n",
      "12            65       0.999      0.992\n",
      "13            70       0.999      0.992\n",
      "14            75       0.999      0.991\n",
      "15            80       0.999      0.992\n",
      "16            85       0.999      0.991\n",
      "17            90       0.999      0.992\n",
      "18            95       0.999      0.991\n",
      "19           100       0.999      0.991\n",
      "20           105       0.999      0.991\n",
      "21           110       0.999      0.991\n",
      "22           115       0.999      0.991\n",
      "23           120       0.999      0.991\n",
      "24           125       0.999      0.991\n",
      "25           130       0.999      0.991\n",
      "26           135       0.999      0.991\n",
      "27           140       0.999      0.991\n",
      "28           145       0.999      0.991\n",
      "29           150       0.999      0.991\n"
     ]
    },
    {
     "data": {
      "image/png": "[encoded data removed]",
      "text/plain": [
       "<Figure size 432x288 with 1 Axes>"
      ]
     },
     "metadata": {
      "needs_background": "light"
     },
     "output_type": "display_data"
    }
   ],
   "source": [
    "n_estimator_min = 1\n",
    "n_estimator_max = 31\n",
    "optimi_estimator(algorithm, algorithm_name, x_train, y_train, x_test, y_test, n_estimator_min, n_estimator_max)"
   ]
  },
  {
   "cell_type": "markdown",
   "metadata": {},
   "source": [
    "### 해석\n",
    "- 학습 데이터에서 정확도가 100%에 가깝게 나타난 것으로 보아 과대적합 발생한 것으로 보임\n",
    "- 트리개수가 적을수록 과대적합 방지가 용이함\n",
    "- 테스트 데이터셋에서 모델 성능이 증가하다가 감소하기 직전의 트리 개수를 최적의 파라미터로 선정"
   ]
  },
  {
   "cell_type": "code",
   "execution_count": 37,
   "metadata": {},
   "outputs": [],
   "source": [
    "n_estimator = 25"
   ]
  },
  {
   "cell_type": "markdown",
   "metadata": {},
   "source": [
    "## 모델 최적화: (2) 최대 깊이"
   ]
  },
  {
   "cell_type": "code",
   "execution_count": 38,
   "metadata": {
    "scrolled": false
   },
   "outputs": [
    {
     "name": "stdout",
     "output_type": "stream",
     "text": [
      "    depth  TrainScore  TestScore\n",
      "0       1       0.907      0.903\n",
      "1       2       0.975      0.970\n",
      "2       3       0.991      0.987\n",
      "3       4       0.995      0.990\n",
      "4       5       0.996      0.991\n",
      "5       6       0.997      0.992\n",
      "6       7       0.997      0.990\n",
      "7       8       0.998      0.991\n",
      "8       9       0.998      0.992\n",
      "9      10       0.999      0.990\n",
      "10     11       0.999      0.992\n",
      "11     12       0.999      0.992\n",
      "12     13       0.999      0.992\n",
      "13     14       0.999      0.992\n",
      "14     15       0.999      0.993\n",
      "15     16       0.999      0.993\n",
      "16     17       0.999      0.993\n",
      "17     18       0.999      0.993\n",
      "18     19       0.999      0.993\n",
      "19     20       0.999      0.993\n"
     ]
    },
    {
     "data": {
      "image/png": "[encoded data removed]",
      "text/plain": [
       "<Figure size 432x288 with 1 Axes>"
      ]
     },
     "metadata": {
      "needs_background": "light"
     },
     "output_type": "display_data"
    }
   ],
   "source": [
    "depth_min = 1\n",
    "depth_max = 21\n",
    "optimi_maxdepth(algorithm, algorithm_name, x_train, y_train, x_test, y_test, depth_min, depth_max, n_estimator)"
   ]
  },
  {
   "cell_type": "markdown",
   "metadata": {},
   "source": [
    "### 해석\n",
    "- 학습 데이터셋 기반 정확도와 테스트 데이터셋 기반 정확도 간의 차이가 적은 depth 선정\n",
    "- 최대 깊이는 적을수록 과대적합 방지가 용이함\n",
    "- 테스트 데이터셋에서 모델 성능이 증가하다가 감소하기 직전의 최대 깊이를 최적의 파라미터로 선정"
   ]
  },
  {
   "cell_type": "code",
   "execution_count": 39,
   "metadata": {},
   "outputs": [],
   "source": [
    "n_depth = 6"
   ]
  },
  {
   "cell_type": "markdown",
   "metadata": {},
   "source": [
    "## 모델 최적화: (3) 분리 노드의 최소 자료 수 선정"
   ]
  },
  {
   "cell_type": "code",
   "execution_count": 40,
   "metadata": {},
   "outputs": [
    {
     "name": "stdout",
     "output_type": "stream",
     "text": [
      "    min_samples_split  TrainScore  TestScore\n",
      "0                   2       0.997      0.992\n",
      "1                   4       0.997      0.992\n",
      "2                   6       0.997      0.992\n",
      "3                   8       0.996      0.990\n",
      "4                  10       0.996      0.992\n",
      "5                  12       0.996      0.992\n",
      "6                  14       0.996      0.990\n",
      "7                  16       0.996      0.990\n",
      "8                  18       0.996      0.989\n",
      "9                  20       0.996      0.991\n",
      "10                 22       0.996      0.991\n",
      "11                 24       0.996      0.991\n",
      "12                 26       0.996      0.991\n",
      "13                 28       0.996      0.990\n",
      "14                 30       0.996      0.990\n",
      "15                 32       0.996      0.990\n",
      "16                 34       0.996      0.992\n",
      "17                 36       0.996      0.992\n",
      "18                 38       0.995      0.992\n",
      "19                 40       0.995      0.991\n",
      "20                 42       0.996      0.990\n",
      "21                 44       0.995      0.990\n",
      "22                 46       0.996      0.991\n",
      "23                 48       0.995      0.991\n",
      "24                 50       0.995      0.990\n",
      "25                 52       0.995      0.990\n",
      "26                 54       0.995      0.990\n",
      "27                 56       0.995      0.990\n",
      "28                 58       0.995      0.990\n",
      "29                 60       0.995      0.988\n",
      "30                 62       0.995      0.988\n",
      "31                 64       0.994      0.988\n",
      "32                 66       0.994      0.988\n",
      "33                 68       0.994      0.988\n",
      "34                 70       0.994      0.987\n",
      "35                 72       0.994      0.988\n",
      "36                 74       0.994      0.988\n",
      "37                 76       0.994      0.988\n",
      "38                 78       0.994      0.988\n",
      "39                 80       0.994      0.988\n",
      "40                 82       0.994      0.987\n",
      "41                 84       0.994      0.987\n",
      "42                 86       0.994      0.988\n",
      "43                 88       0.993      0.987\n",
      "44                 90       0.993      0.988\n",
      "45                 92       0.994      0.987\n",
      "46                 94       0.994      0.987\n",
      "47                 96       0.994      0.987\n",
      "48                 98       0.993      0.988\n",
      "49                100       0.993      0.988\n",
      "50                102       0.993      0.988\n",
      "51                104       0.993      0.988\n",
      "52                106       0.993      0.988\n",
      "53                108       0.993      0.986\n",
      "54                110       0.993      0.986\n",
      "55                112       0.993      0.986\n",
      "56                114       0.992      0.986\n",
      "57                116       0.992      0.986\n",
      "58                118       0.993      0.986\n",
      "59                120       0.992      0.985\n",
      "60                122       0.992      0.984\n",
      "61                124       0.992      0.984\n",
      "62                126       0.992      0.985\n",
      "63                128       0.992      0.985\n",
      "64                130       0.992      0.985\n",
      "65                132       0.992      0.985\n",
      "66                134       0.992      0.985\n",
      "67                136       0.992      0.985\n",
      "68                138       0.992      0.985\n",
      "69                140       0.992      0.985\n",
      "70                142       0.992      0.983\n",
      "71                144       0.992      0.983\n",
      "72                146       0.992      0.983\n",
      "73                148       0.992      0.983\n",
      "74                150       0.992      0.984\n",
      "75                152       0.992      0.984\n",
      "76                154       0.992      0.983\n",
      "77                156       0.993      0.985\n",
      "78                158       0.993      0.985\n",
      "79                160       0.993      0.986\n",
      "80                162       0.993      0.986\n",
      "81                164       0.993      0.986\n",
      "82                166       0.993      0.986\n",
      "83                168       0.993      0.986\n",
      "84                170       0.993      0.985\n",
      "85                172       0.993      0.985\n",
      "86                174       0.993      0.985\n",
      "87                176       0.993      0.985\n",
      "88                178       0.993      0.985\n",
      "89                180       0.992      0.984\n",
      "90                182       0.991      0.984\n",
      "91                184       0.991      0.984\n",
      "92                186       0.991      0.984\n",
      "93                188       0.992      0.983\n",
      "94                190       0.991      0.984\n",
      "95                192       0.992      0.983\n",
      "96                194       0.991      0.983\n",
      "97                196       0.991      0.983\n",
      "98                198       0.991      0.982\n",
      "99                200       0.991      0.982\n"
     ]
    },
    {
     "data": {
      "image/png": "[encoded data removed]",
      "text/plain": [
       "<Figure size 432x288 with 1 Axes>"
      ]
     },
     "metadata": {
      "needs_background": "light"
     },
     "output_type": "display_data"
    }
   ],
   "source": [
    "n_split_min = 1\n",
    "n_split_max = 101\n",
    "# 데이터프레임 행 최대 100개까지 반드시 출력\n",
    "pd.set_option('display.max_row', 100)\n",
    "optimi_minsplit (algorithm, algorithm_name, x_train, y_train, x_test, y_test, n_split_min, n_split_max, n_estimator, n_depth)"
   ]
  },
  {
   "cell_type": "markdown",
   "metadata": {},
   "source": [
    "### 해석\n",
    "- 학습 데이터셋 기반 정확도와 테스트 데이터셋 기반 정확도 간의 차이가 적은 분리 노드의 최소 자료 수 선정\n",
    "- 분리 노드의 최소 자료 수가 클수록 분류 기준이 엄격해져 과대적합 방지가 용이함\n",
    "- 테스트 데이터셋에서 모델 성능이 증가하다가 감소하기 직전인 최적의 분리 노드의 최소 자료 수 선정"
   ]
  },
  {
   "cell_type": "code",
   "execution_count": 41,
   "metadata": {},
   "outputs": [],
   "source": [
    "n_split = 38"
   ]
  },
  {
   "cell_type": "markdown",
   "metadata": {},
   "source": [
    "## 모델 최적화: (4) 잎사귀 노드의 최소 자료 수 선정"
   ]
  },
  {
   "cell_type": "code",
   "execution_count": 42,
   "metadata": {},
   "outputs": [
    {
     "name": "stdout",
     "output_type": "stream",
     "text": [
      "    min_samples_leaf  TrainScore  TestScore\n",
      "0                  2       0.995      0.992\n",
      "1                  4       0.994      0.990\n",
      "2                  6       0.994      0.992\n",
      "3                  8       0.993      0.988\n",
      "4                 10       0.992      0.990\n",
      "5                 12       0.993      0.988\n",
      "6                 14       0.992      0.992\n",
      "7                 16       0.993      0.990\n",
      "8                 18       0.992      0.988\n",
      "9                 20       0.992      0.987\n",
      "10                22       0.993      0.988\n",
      "11                24       0.991      0.986\n",
      "12                26       0.991      0.986\n",
      "13                28       0.992      0.983\n",
      "14                30       0.991      0.984\n",
      "15                32       0.990      0.983\n",
      "16                34       0.990      0.983\n",
      "17                36       0.990      0.983\n",
      "18                38       0.991      0.983\n",
      "19                40       0.991      0.984\n",
      "20                42       0.990      0.986\n",
      "21                44       0.988      0.984\n",
      "22                46       0.988      0.983\n",
      "23                48       0.989      0.981\n",
      "24                50       0.988      0.981\n",
      "25                52       0.990      0.983\n",
      "26                54       0.989      0.986\n",
      "27                56       0.989      0.985\n",
      "28                58       0.989      0.986\n",
      "29                60       0.989      0.981\n",
      "30                62       0.989      0.983\n",
      "31                64       0.989      0.983\n",
      "32                66       0.990      0.984\n",
      "33                68       0.989      0.983\n",
      "34                70       0.989      0.986\n",
      "35                72       0.989      0.983\n",
      "36                74       0.989      0.983\n",
      "37                76       0.989      0.984\n",
      "38                78       0.989      0.984\n",
      "39                80       0.988      0.985\n",
      "40                82       0.988      0.984\n",
      "41                84       0.988      0.983\n",
      "42                86       0.986      0.984\n",
      "43                88       0.987      0.985\n",
      "44                90       0.986      0.981\n",
      "45                92       0.984      0.982\n",
      "46                94       0.983      0.979\n",
      "47                96       0.983      0.979\n",
      "48                98       0.983      0.980\n",
      "49               100       0.984      0.979\n"
     ]
    },
    {
     "data": {
      "image/png": "[encoded data removed]",
      "text/plain": [
       "<Figure size 432x288 with 1 Axes>"
      ]
     },
     "metadata": {
      "needs_background": "light"
     },
     "output_type": "display_data"
    }
   ],
   "source": [
    "n_leaf_min = 1\n",
    "n_leaf_max = 51\n",
    "optimi_minleaf(algorithm, algorithm_name, x_train, y_train, x_test, y_test, n_leaf_min, n_leaf_max, n_estimator, n_depth, n_split)"
   ]
  },
  {
   "cell_type": "markdown",
   "metadata": {},
   "source": [
    "### 해석\n",
    "- 학습 데이터셋 기반 정확도와 테스트 데이터셋 기반 정확도 간의 차이가 적은 잎사귀 노드의 최소 자료 수 선정\n",
    "- 잎사귀 노드의 최소 자료 수가 클수록 분류 기준이 엄격해져 과대적합 방지가 용이함\n",
    "- 테스트 데이터셋에서 모델 성능이 증가하다가 감소하기 직전인 최적의 잎사귀 노드의 최소 자료 수 선정"
   ]
  },
  {
   "cell_type": "code",
   "execution_count": 43,
   "metadata": {},
   "outputs": [],
   "source": [
    "n_leaf = 14"
   ]
  },
  {
   "cell_type": "markdown",
   "metadata": {},
   "source": [
    "## 최종 모델 학습\n"
   ]
  },
  {
   "cell_type": "code",
   "execution_count": 44,
   "metadata": {},
   "outputs": [
    {
     "name": "stdout",
     "output_type": "stream",
     "text": [
      "최종 모델 저장 완료! 파일 경로: ../model/wine_classification_RFC.pkl\n",
      "\n",
      "Accuracy: 0.992\n",
      "Precision: 0.992\n",
      "Recall: 0.998\n",
      "F1-score: 0.995\n"
     ]
    },
    {
     "data": {
      "image/png": "[encoded data removed]",
      "text/plain": [
       "<Figure size 432x288 with 2 Axes>"
      ]
     },
     "metadata": {
      "needs_background": "light"
     },
     "output_type": "display_data"
    },
    {
     "name": "stdout",
     "output_type": "stream",
     "text": [
      "Confusion Matrix:\n",
      "[[ 192   10]\n",
      " [   2 1247]]\n",
      "\n",
      "                 Feature  Importance\n",
      "1              chlorides       0.320\n",
      "10  total sulfur dioxide       0.316\n",
      "11      volatile acidity       0.139\n",
      "3                density       0.050\n",
      "5    free sulfur dioxide       0.044\n",
      "9              sulphates       0.038\n",
      "8         residual sugar       0.036\n",
      "6                     pH       0.028\n",
      "4          fixed acidity       0.021\n",
      "2            citric acid       0.006\n",
      "0                alcohol       0.002\n",
      "7                quality       0.000\n"
     ]
    },
    {
     "data": {
      "image/png": "[encoded data removed]",
      "text/plain": [
       "<Figure size 432x288 with 1 Axes>"
      ]
     },
     "metadata": {
      "needs_background": "light"
     },
     "output_type": "display_data"
    }
   ],
   "source": [
    "feature_name = x.columns\n",
    "model_final(algorithm, algorithm_name, feature_name, x_train, y_train, x_test, y_test, n_estimator, n_depth, n_split, n_leaf)"
   ]
  },
  {
   "cell_type": "code",
   "execution_count": null,
   "metadata": {},
   "outputs": [],
   "source": []
  },
  {
   "cell_type": "code",
   "execution_count": null,
   "metadata": {},
   "outputs": [],
   "source": []
  }
 ],
 "metadata": {
  "kernelspec": {
   "display_name": "Python 3",
   "language": "python",
   "name": "python3"
  },
  "language_info": {
   "codemirror_mode": {
    "name": "ipython",
    "version": 3
   },
   "file_extension": ".py",
   "mimetype": "text/x-python",
   "name": "python",
   "nbconvert_exporter": "python",
   "pygments_lexer": "ipython3",
   "version": "3.8.1"
  }
 },
 "nbformat": 4,
 "nbformat_minor": 4
}
